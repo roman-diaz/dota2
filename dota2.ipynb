{
 "nbformat": 4,
 "nbformat_minor": 2,
 "metadata": {
  "language_info": {
   "name": "python",
   "codemirror_mode": {
    "name": "ipython",
    "version": 3
   },
   "version": "3.7.4-final"
  },
  "orig_nbformat": 2,
  "file_extension": ".py",
  "mimetype": "text/x-python",
  "name": "python",
  "npconvert_exporter": "python",
  "pygments_lexer": "ipython3",
  "version": 3,
  "kernelspec": {
   "name": "python3",
   "display_name": "Python 3"
  }
 },
 "cells": [
  {
   "cell_type": "code",
   "execution_count": 7,
   "metadata": {},
   "outputs": [
    {
     "output_type": "stream",
     "name": "stdout",
     "text": "ArmorPhysical  AttackDamageMin  AttackDamageMax  AttackRate  \\\nHeroe                                                                         \nantimage                 -1.0             29.0             33.0         1.4   \naxe                      -1.0             27.0             31.0         1.7   \nbane                      1.0             35.0             41.0         1.7   \nbloodseeker               2.0             33.0             39.0         1.7   \ncrystal_maiden           -1.0             30.0             36.0         1.7   \n...                       ...              ...              ...         ...   \ndark_willow              -1.0             27.0             35.0         1.5   \ngrimstroke                0.0             21.0             25.0         1.7   \nmars                     -1.0             29.0             37.0         1.8   \nvoid_spirit              -1.0             32.0             36.0         1.7   \nsnapfire                  0.0             26.0             32.0         1.6   \n\n                     Primary  Strength  StrengthGain  Intelligence  \\\nHeroe                                                                \nantimage             AGILITY      23.0           1.3          12.0   \naxe                 STRENGTH      25.0           3.6          18.0   \nbane            Intelligence      23.0           2.6          23.0   \nbloodseeker          AGILITY      24.0           2.7          18.0   \ncrystal_maiden  Intelligence      18.0           2.2          14.0   \n...                      ...       ...           ...           ...   \ndark_willow     Intelligence      20.0           2.0          18.0   \ngrimstroke      Intelligence      21.0           2.4          25.0   \nmars                STRENGTH      23.0           3.4          17.0   \nvoid_spirit     Intelligence      22.0           2.6          24.0   \nsnapfire            STRENGTH      20.0           3.3          18.0   \n\n                IntelligenceGain  Agility  AgilityGain  BASE HP  BaseAttack  \nHeroe                                                                        \nantimage                     1.8     24.0          3.0      200        31.0  \naxe                          1.6     20.0          2.2      200        29.0  \nbane                         2.6     23.0          2.6      200        38.0  \nbloodseeker                  1.7     22.0          3.4      200        36.0  \ncrystal_maiden               3.3     16.0          1.6      200        33.0  \n...                          ...      ...          ...      ...         ...  \ndark_willow                  3.5     18.0          1.6      200        31.0  \ngrimstroke                   3.8     18.0          1.9      200        23.0  \nmars                         1.4     20.0          1.9      200        33.0  \nvoid_spirit                  3.1     19.0          2.2      200        34.0  \nsnapfire                     2.2     16.0          1.9      200        29.0  \n\n[119 rows x 13 columns]\n"
    },
    {
     "output_type": "display_data",
     "data": {
      "application/vnd.plotly.v1+json": {
       "config": {
        "plotlyServerURL": "https://plot.ly"
       },
       "data": [
        {
         "name": "bane",
         "type": "scatter",
         "x": [
          1,
          2,
          3,
          4,
          5,
          6,
          7,
          8,
          9,
          10,
          11,
          12,
          13,
          14,
          15,
          16,
          17,
          18,
          19,
          20
         ],
         "y": [
          40.6,
          43.2,
          45.8,
          48.4,
          51,
          53.6,
          56.2,
          58.8,
          61.400000000000006,
          64,
          66.6,
          69.2,
          71.80000000000001,
          74.4,
          77,
          79.6,
          82.2,
          84.80000000000001,
          87.4,
          90
         ]
        },
        {
         "name": "windrunner",
         "type": "scatter",
         "x": [
          1,
          2,
          3,
          4,
          5,
          6,
          7,
          8,
          9,
          10,
          11,
          12,
          13,
          14,
          15,
          16,
          17,
          18,
          19,
          20
         ],
         "y": [
          33.6,
          37.2,
          40.8,
          44.4,
          48,
          51.6,
          55.2,
          58.8,
          62.4,
          66,
          69.6,
          73.2,
          76.80000000000001,
          80.4,
          84,
          87.6,
          91.2,
          94.8,
          98.4,
          102
         ]
        },
        {
         "name": "sniper",
         "type": "scatter",
         "x": [
          1,
          2,
          3,
          4,
          5,
          6,
          7,
          8,
          9,
          10,
          11,
          12,
          13,
          14,
          15,
          16,
          17,
          18,
          19,
          20
         ],
         "y": [
          25.4,
          28.8,
          32.2,
          35.6,
          39,
          42.4,
          45.8,
          49.2,
          52.599999999999994,
          56,
          59.4,
          62.8,
          66.19999999999999,
          69.6,
          73,
          76.4,
          79.8,
          83.19999999999999,
          86.6,
          90
         ]
        },
        {
         "name": "pudge",
         "type": "scatter",
         "x": [
          1,
          2,
          3,
          4,
          5,
          6,
          7,
          8,
          9,
          10,
          11,
          12,
          13,
          14,
          15,
          16,
          17,
          18,
          19,
          20
         ],
         "y": [
          47,
          51,
          55,
          59,
          63,
          67,
          71,
          75,
          79,
          83,
          87,
          91,
          95,
          99,
          103,
          107,
          111,
          115,
          119,
          123
         ]
        },
        {
         "name": "phantom_lancer",
         "type": "scatter",
         "x": [
          1,
          2,
          3,
          4,
          5,
          6,
          7,
          8,
          9,
          10,
          11,
          12,
          13,
          14,
          15,
          16,
          17,
          18,
          19,
          20
         ],
         "y": [
          36.2,
          39.4,
          42.6,
          45.8,
          49,
          52.2,
          55.400000000000006,
          58.6,
          61.8,
          65,
          68.2,
          71.4,
          74.6,
          77.80000000000001,
          81,
          84.2,
          87.4,
          90.6,
          93.80000000000001,
          97
         ]
        },
        {
         "name": "tiny",
         "type": "scatter",
         "x": [
          1,
          2,
          3,
          4,
          5,
          6,
          7,
          8,
          9,
          10,
          11,
          12,
          13,
          14,
          15,
          16,
          17,
          18,
          19,
          20
         ],
         "y": [
          37.8,
          41.6,
          45.4,
          49.2,
          53,
          56.8,
          60.599999999999994,
          64.4,
          68.19999999999999,
          72,
          75.8,
          79.6,
          83.4,
          87.19999999999999,
          91,
          94.8,
          98.6,
          102.39999999999999,
          106.2,
          110
         ]
        }
       ],
       "layout": {
        "height": 300,
        "margin": {
         "b": 5
        },
        "template": {
         "data": {
          "bar": [
           {
            "error_x": {
             "color": "#2a3f5f"
            },
            "error_y": {
             "color": "#2a3f5f"
            },
            "marker": {
             "line": {
              "color": "#E5ECF6",
              "width": 0.5
             }
            },
            "type": "bar"
           }
          ],
          "barpolar": [
           {
            "marker": {
             "line": {
              "color": "#E5ECF6",
              "width": 0.5
             }
            },
            "type": "barpolar"
           }
          ],
          "carpet": [
           {
            "aaxis": {
             "endlinecolor": "#2a3f5f",
             "gridcolor": "white",
             "linecolor": "white",
             "minorgridcolor": "white",
             "startlinecolor": "#2a3f5f"
            },
            "baxis": {
             "endlinecolor": "#2a3f5f",
             "gridcolor": "white",
             "linecolor": "white",
             "minorgridcolor": "white",
             "startlinecolor": "#2a3f5f"
            },
            "type": "carpet"
           }
          ],
          "choropleth": [
           {
            "colorbar": {
             "outlinewidth": 0,
             "ticks": ""
            },
            "type": "choropleth"
           }
          ],
          "contour": [
           {
            "colorbar": {
             "outlinewidth": 0,
             "ticks": ""
            },
            "colorscale": [
             [
              0,
              "#0d0887"
             ],
             [
              0.1111111111111111,
              "#46039f"
             ],
             [
              0.2222222222222222,
              "#7201a8"
             ],
             [
              0.3333333333333333,
              "#9c179e"
             ],
             [
              0.4444444444444444,
              "#bd3786"
             ],
             [
              0.5555555555555556,
              "#d8576b"
             ],
             [
              0.6666666666666666,
              "#ed7953"
             ],
             [
              0.7777777777777778,
              "#fb9f3a"
             ],
             [
              0.8888888888888888,
              "#fdca26"
             ],
             [
              1,
              "#f0f921"
             ]
            ],
            "type": "contour"
           }
          ],
          "contourcarpet": [
           {
            "colorbar": {
             "outlinewidth": 0,
             "ticks": ""
            },
            "type": "contourcarpet"
           }
          ],
          "heatmap": [
           {
            "colorbar": {
             "outlinewidth": 0,
             "ticks": ""
            },
            "colorscale": [
             [
              0,
              "#0d0887"
             ],
             [
              0.1111111111111111,
              "#46039f"
             ],
             [
              0.2222222222222222,
              "#7201a8"
             ],
             [
              0.3333333333333333,
              "#9c179e"
             ],
             [
              0.4444444444444444,
              "#bd3786"
             ],
             [
              0.5555555555555556,
              "#d8576b"
             ],
             [
              0.6666666666666666,
              "#ed7953"
             ],
             [
              0.7777777777777778,
              "#fb9f3a"
             ],
             [
              0.8888888888888888,
              "#fdca26"
             ],
             [
              1,
              "#f0f921"
             ]
            ],
            "type": "heatmap"
           }
          ],
          "heatmapgl": [
           {
            "colorbar": {
             "outlinewidth": 0,
             "ticks": ""
            },
            "colorscale": [
             [
              0,
              "#0d0887"
             ],
             [
              0.1111111111111111,
              "#46039f"
             ],
             [
              0.2222222222222222,
              "#7201a8"
             ],
             [
              0.3333333333333333,
              "#9c179e"
             ],
             [
              0.4444444444444444,
              "#bd3786"
             ],
             [
              0.5555555555555556,
              "#d8576b"
             ],
             [
              0.6666666666666666,
              "#ed7953"
             ],
             [
              0.7777777777777778,
              "#fb9f3a"
             ],
             [
              0.8888888888888888,
              "#fdca26"
             ],
             [
              1,
              "#f0f921"
             ]
            ],
            "type": "heatmapgl"
           }
          ],
          "histogram": [
           {
            "marker": {
             "colorbar": {
              "outlinewidth": 0,
              "ticks": ""
             }
            },
            "type": "histogram"
           }
          ],
          "histogram2d": [
           {
            "colorbar": {
             "outlinewidth": 0,
             "ticks": ""
            },
            "colorscale": [
             [
              0,
              "#0d0887"
             ],
             [
              0.1111111111111111,
              "#46039f"
             ],
             [
              0.2222222222222222,
              "#7201a8"
             ],
             [
              0.3333333333333333,
              "#9c179e"
             ],
             [
              0.4444444444444444,
              "#bd3786"
             ],
             [
              0.5555555555555556,
              "#d8576b"
             ],
             [
              0.6666666666666666,
              "#ed7953"
             ],
             [
              0.7777777777777778,
              "#fb9f3a"
             ],
             [
              0.8888888888888888,
              "#fdca26"
             ],
             [
              1,
              "#f0f921"
             ]
            ],
            "type": "histogram2d"
           }
          ],
          "histogram2dcontour": [
           {
            "colorbar": {
             "outlinewidth": 0,
             "ticks": ""
            },
            "colorscale": [
             [
              0,
              "#0d0887"
             ],
             [
              0.1111111111111111,
              "#46039f"
             ],
             [
              0.2222222222222222,
              "#7201a8"
             ],
             [
              0.3333333333333333,
              "#9c179e"
             ],
             [
              0.4444444444444444,
              "#bd3786"
             ],
             [
              0.5555555555555556,
              "#d8576b"
             ],
             [
              0.6666666666666666,
              "#ed7953"
             ],
             [
              0.7777777777777778,
              "#fb9f3a"
             ],
             [
              0.8888888888888888,
              "#fdca26"
             ],
             [
              1,
              "#f0f921"
             ]
            ],
            "type": "histogram2dcontour"
           }
          ],
          "mesh3d": [
           {
            "colorbar": {
             "outlinewidth": 0,
             "ticks": ""
            },
            "type": "mesh3d"
           }
          ],
          "parcoords": [
           {
            "line": {
             "colorbar": {
              "outlinewidth": 0,
              "ticks": ""
             }
            },
            "type": "parcoords"
           }
          ],
          "pie": [
           {
            "automargin": true,
            "type": "pie"
           }
          ],
          "scatter": [
           {
            "marker": {
             "colorbar": {
              "outlinewidth": 0,
              "ticks": ""
             }
            },
            "type": "scatter"
           }
          ],
          "scatter3d": [
           {
            "line": {
             "colorbar": {
              "outlinewidth": 0,
              "ticks": ""
             }
            },
            "marker": {
             "colorbar": {
              "outlinewidth": 0,
              "ticks": ""
             }
            },
            "type": "scatter3d"
           }
          ],
          "scattercarpet": [
           {
            "marker": {
             "colorbar": {
              "outlinewidth": 0,
              "ticks": ""
             }
            },
            "type": "scattercarpet"
           }
          ],
          "scattergeo": [
           {
            "marker": {
             "colorbar": {
              "outlinewidth": 0,
              "ticks": ""
             }
            },
            "type": "scattergeo"
           }
          ],
          "scattergl": [
           {
            "marker": {
             "colorbar": {
              "outlinewidth": 0,
              "ticks": ""
             }
            },
            "type": "scattergl"
           }
          ],
          "scattermapbox": [
           {
            "marker": {
             "colorbar": {
              "outlinewidth": 0,
              "ticks": ""
             }
            },
            "type": "scattermapbox"
           }
          ],
          "scatterpolar": [
           {
            "marker": {
             "colorbar": {
              "outlinewidth": 0,
              "ticks": ""
             }
            },
            "type": "scatterpolar"
           }
          ],
          "scatterpolargl": [
           {
            "marker": {
             "colorbar": {
              "outlinewidth": 0,
              "ticks": ""
             }
            },
            "type": "scatterpolargl"
           }
          ],
          "scatterternary": [
           {
            "marker": {
             "colorbar": {
              "outlinewidth": 0,
              "ticks": ""
             }
            },
            "type": "scatterternary"
           }
          ],
          "surface": [
           {
            "colorbar": {
             "outlinewidth": 0,
             "ticks": ""
            },
            "colorscale": [
             [
              0,
              "#0d0887"
             ],
             [
              0.1111111111111111,
              "#46039f"
             ],
             [
              0.2222222222222222,
              "#7201a8"
             ],
             [
              0.3333333333333333,
              "#9c179e"
             ],
             [
              0.4444444444444444,
              "#bd3786"
             ],
             [
              0.5555555555555556,
              "#d8576b"
             ],
             [
              0.6666666666666666,
              "#ed7953"
             ],
             [
              0.7777777777777778,
              "#fb9f3a"
             ],
             [
              0.8888888888888888,
              "#fdca26"
             ],
             [
              1,
              "#f0f921"
             ]
            ],
            "type": "surface"
           }
          ],
          "table": [
           {
            "cells": {
             "fill": {
              "color": "#EBF0F8"
             },
             "line": {
              "color": "white"
             }
            },
            "header": {
             "fill": {
              "color": "#C8D4E3"
             },
             "line": {
              "color": "white"
             }
            },
            "type": "table"
           }
          ]
         },
         "layout": {
          "annotationdefaults": {
           "arrowcolor": "#2a3f5f",
           "arrowhead": 0,
           "arrowwidth": 1
          },
          "coloraxis": {
           "colorbar": {
            "outlinewidth": 0,
            "ticks": ""
           }
          },
          "colorscale": {
           "diverging": [
            [
             0,
             "#8e0152"
            ],
            [
             0.1,
             "#c51b7d"
            ],
            [
             0.2,
             "#de77ae"
            ],
            [
             0.3,
             "#f1b6da"
            ],
            [
             0.4,
             "#fde0ef"
            ],
            [
             0.5,
             "#f7f7f7"
            ],
            [
             0.6,
             "#e6f5d0"
            ],
            [
             0.7,
             "#b8e186"
            ],
            [
             0.8,
             "#7fbc41"
            ],
            [
             0.9,
             "#4d9221"
            ],
            [
             1,
             "#276419"
            ]
           ],
           "sequential": [
            [
             0,
             "#0d0887"
            ],
            [
             0.1111111111111111,
             "#46039f"
            ],
            [
             0.2222222222222222,
             "#7201a8"
            ],
            [
             0.3333333333333333,
             "#9c179e"
            ],
            [
             0.4444444444444444,
             "#bd3786"
            ],
            [
             0.5555555555555556,
             "#d8576b"
            ],
            [
             0.6666666666666666,
             "#ed7953"
            ],
            [
             0.7777777777777778,
             "#fb9f3a"
            ],
            [
             0.8888888888888888,
             "#fdca26"
            ],
            [
             1,
             "#f0f921"
            ]
           ],
           "sequentialminus": [
            [
             0,
             "#0d0887"
            ],
            [
             0.1111111111111111,
             "#46039f"
            ],
            [
             0.2222222222222222,
             "#7201a8"
            ],
            [
             0.3333333333333333,
             "#9c179e"
            ],
            [
             0.4444444444444444,
             "#bd3786"
            ],
            [
             0.5555555555555556,
             "#d8576b"
            ],
            [
             0.6666666666666666,
             "#ed7953"
            ],
            [
             0.7777777777777778,
             "#fb9f3a"
            ],
            [
             0.8888888888888888,
             "#fdca26"
            ],
            [
             1,
             "#f0f921"
            ]
           ]
          },
          "colorway": [
           "#636efa",
           "#EF553B",
           "#00cc96",
           "#ab63fa",
           "#FFA15A",
           "#19d3f3",
           "#FF6692",
           "#B6E880",
           "#FF97FF",
           "#FECB52"
          ],
          "font": {
           "color": "#2a3f5f"
          },
          "geo": {
           "bgcolor": "white",
           "lakecolor": "white",
           "landcolor": "#E5ECF6",
           "showlakes": true,
           "showland": true,
           "subunitcolor": "white"
          },
          "hoverlabel": {
           "align": "left"
          },
          "hovermode": "closest",
          "mapbox": {
           "style": "light"
          },
          "paper_bgcolor": "white",
          "plot_bgcolor": "#E5ECF6",
          "polar": {
           "angularaxis": {
            "gridcolor": "white",
            "linecolor": "white",
            "ticks": ""
           },
           "bgcolor": "#E5ECF6",
           "radialaxis": {
            "gridcolor": "white",
            "linecolor": "white",
            "ticks": ""
           }
          },
          "scene": {
           "xaxis": {
            "backgroundcolor": "#E5ECF6",
            "gridcolor": "white",
            "gridwidth": 2,
            "linecolor": "white",
            "showbackground": true,
            "ticks": "",
            "zerolinecolor": "white"
           },
           "yaxis": {
            "backgroundcolor": "#E5ECF6",
            "gridcolor": "white",
            "gridwidth": 2,
            "linecolor": "white",
            "showbackground": true,
            "ticks": "",
            "zerolinecolor": "white"
           },
           "zaxis": {
            "backgroundcolor": "#E5ECF6",
            "gridcolor": "white",
            "gridwidth": 2,
            "linecolor": "white",
            "showbackground": true,
            "ticks": "",
            "zerolinecolor": "white"
           }
          },
          "shapedefaults": {
           "line": {
            "color": "#2a3f5f"
           }
          },
          "ternary": {
           "aaxis": {
            "gridcolor": "white",
            "linecolor": "white",
            "ticks": ""
           },
           "baxis": {
            "gridcolor": "white",
            "linecolor": "white",
            "ticks": ""
           },
           "bgcolor": "#E5ECF6",
           "caxis": {
            "gridcolor": "white",
            "linecolor": "white",
            "ticks": ""
           }
          },
          "title": {
           "x": 0.05
          },
          "xaxis": {
           "automargin": true,
           "gridcolor": "white",
           "linecolor": "white",
           "ticks": "",
           "title": {
            "standoff": 15
           },
           "zerolinecolor": "white",
           "zerolinewidth": 2
          },
          "yaxis": {
           "automargin": true,
           "gridcolor": "white",
           "linecolor": "white",
           "ticks": "",
           "title": {
            "standoff": 15
           },
           "zerolinecolor": "white",
           "zerolinewidth": 2
          }
         }
        },
        "title": {
         "text": "DMG"
        },
        "width": 1000
       }
      }
     },
     "metadata": {}
    },
    {
     "output_type": "display_data",
     "data": {
      "application/vnd.plotly.v1+json": {
       "config": {
        "plotlyServerURL": "https://plot.ly"
       },
       "data": [
        {
         "name": "bane",
         "type": "scatter",
         "x": [
          1,
          2,
          3,
          4,
          5,
          6,
          7,
          8,
          9,
          10,
          11,
          12,
          13,
          14,
          15,
          16,
          17,
          18,
          19,
          20
         ],
         "y": [
          842.2549019607843,
          926.4962165308498,
          1013.4222189823589,
          1103.048203330412,
          1195.3895799795114,
          1290.4618768328444,
          1388.2807404142793,
          1488.8619370032382,
          1592.221353782628,
          1698.375,
          1807.339008142117,
          1919.1296351231092,
          2033.7632634864021,
          2151.256402620608,
          2271.6256899895575,
          2394.887892376682,
          2521.059907143927,
          2650.158763505403,
          2782.2016238159677,
          2917.205784874963
         ]
        },
        {
         "name": "windrunner",
         "type": "scatter",
         "x": [
          1,
          2,
          3,
          4,
          5,
          6,
          7,
          8,
          9,
          10,
          11,
          12,
          13,
          14,
          15,
          16,
          17,
          18,
          19,
          20
         ],
         "y": [
          616.080257972053,
          690.2453195610071,
          766.007036691319,
          843.3702292819665,
          922.339736671703,
          1002.9204177169607,
          1085.117150890347,
          1168.9348343797358,
          1254.378386187965,
          1341.4527442331334,
          1430.1628664495115,
          1520.5137308890662,
          1612.5103358236022,
          1706.157699847528,
          1801.4608619812489,
          1898.4248817751911,
          1997.054839414464,
          2097.3558358241603,
          2199.332992775305,
          2302.9914529914536
         ]
        },
        {
         "name": "sniper",
         "type": "scatter",
         "x": [
          1,
          2,
          3,
          4,
          5,
          6,
          7,
          8,
          9,
          10,
          11,
          12,
          13,
          14,
          15,
          16,
          17,
          18,
          19,
          20
         ],
         "y": [
          659.9245418613008,
          718.368057056408,
          779.10218819961,
          842.1438499963801,
          907.5101241018942,
          975.2182611858857,
          1045.2856830282255,
          1117.7299846457558,
          1192.5689364509274,
          1269.8204864427953,
          1349.5027624309391,
          1431.6340742928883,
          1516.2329162656404,
          1603.3179692718775,
          1692.9081032814943,
          1785.022379709064,
          1879.6800538478801,
          1976.9005773412314,
          2076.7036006915737,
          2179.1089758082753
         ]
        },
        {
         "name": "pudge",
         "type": "scatter",
         "x": [
          1,
          2,
          3,
          4,
          5,
          6,
          7,
          8,
          9,
          10,
          11,
          12,
          13,
          14,
          15,
          16,
          17,
          18,
          19,
          20
         ],
         "y": [
          709.717031500267,
          801.6782469267771,
          895.8908507223115,
          992.3620782003213,
          1091.0991957104557,
          1192.109500805153,
          1295.4003224073078,
          1400.979020979021,
          1508.8529886914378,
          1619.0296495956873,
          1731.5164597949272,
          1846.3209076175042,
          1963.4505137912388,
          2082.912831618841,
          2204.715447154472,
          2328.865979381443,
          2455.372080391092,
          2584.241435562806,
          2715.481763745237,
          2849.1008174386925
         ]
        },
        {
         "name": "phantom_lancer",
         "type": "scatter",
         "x": [
          1,
          2,
          3,
          4,
          5,
          6,
          7,
          8,
          9,
          10,
          11,
          12,
          13,
          14,
          15,
          16,
          17,
          18,
          19,
          20
         ],
         "y": [
          722.0322405361347,
          796.012926182782,
          872.7979037012775,
          952.4068142851931,
          1034.8594829792683,
          1120.175920835624,
          1208.3763271004004,
          1299.4810914313068,
          1393.5107961466063,
          1490.4862185060492,
          1590.4283330242909,
          1693.3583138173303,
          1799.2975369825247,
          1908.2675830127368,
          2020.2902392451986,
          2135.3875023456562,
          2253.581580828412,
          2374.894897612853,
          2499.3500926170955,
          2626.970025389367
         ]
        },
        {
         "name": "tiny",
         "type": "scatter",
         "x": [
          1,
          2,
          3,
          4,
          5,
          6,
          7,
          8,
          9,
          10,
          11,
          12,
          13,
          14,
          15,
          16,
          17,
          18,
          19,
          20
         ],
         "y": [
          760,
          836,
          912,
          988,
          1064,
          1140,
          1216,
          1292,
          1368,
          1444,
          1520,
          1596,
          1672,
          1748,
          1824,
          1900,
          1976,
          2052,
          2128,
          2204
         ]
        }
       ],
       "layout": {
        "height": 300,
        "margin": {
         "b": 5
        },
        "template": {
         "data": {
          "bar": [
           {
            "error_x": {
             "color": "#2a3f5f"
            },
            "error_y": {
             "color": "#2a3f5f"
            },
            "marker": {
             "line": {
              "color": "#E5ECF6",
              "width": 0.5
             }
            },
            "type": "bar"
           }
          ],
          "barpolar": [
           {
            "marker": {
             "line": {
              "color": "#E5ECF6",
              "width": 0.5
             }
            },
            "type": "barpolar"
           }
          ],
          "carpet": [
           {
            "aaxis": {
             "endlinecolor": "#2a3f5f",
             "gridcolor": "white",
             "linecolor": "white",
             "minorgridcolor": "white",
             "startlinecolor": "#2a3f5f"
            },
            "baxis": {
             "endlinecolor": "#2a3f5f",
             "gridcolor": "white",
             "linecolor": "white",
             "minorgridcolor": "white",
             "startlinecolor": "#2a3f5f"
            },
            "type": "carpet"
           }
          ],
          "choropleth": [
           {
            "colorbar": {
             "outlinewidth": 0,
             "ticks": ""
            },
            "type": "choropleth"
           }
          ],
          "contour": [
           {
            "colorbar": {
             "outlinewidth": 0,
             "ticks": ""
            },
            "colorscale": [
             [
              0,
              "#0d0887"
             ],
             [
              0.1111111111111111,
              "#46039f"
             ],
             [
              0.2222222222222222,
              "#7201a8"
             ],
             [
              0.3333333333333333,
              "#9c179e"
             ],
             [
              0.4444444444444444,
              "#bd3786"
             ],
             [
              0.5555555555555556,
              "#d8576b"
             ],
             [
              0.6666666666666666,
              "#ed7953"
             ],
             [
              0.7777777777777778,
              "#fb9f3a"
             ],
             [
              0.8888888888888888,
              "#fdca26"
             ],
             [
              1,
              "#f0f921"
             ]
            ],
            "type": "contour"
           }
          ],
          "contourcarpet": [
           {
            "colorbar": {
             "outlinewidth": 0,
             "ticks": ""
            },
            "type": "contourcarpet"
           }
          ],
          "heatmap": [
           {
            "colorbar": {
             "outlinewidth": 0,
             "ticks": ""
            },
            "colorscale": [
             [
              0,
              "#0d0887"
             ],
             [
              0.1111111111111111,
              "#46039f"
             ],
             [
              0.2222222222222222,
              "#7201a8"
             ],
             [
              0.3333333333333333,
              "#9c179e"
             ],
             [
              0.4444444444444444,
              "#bd3786"
             ],
             [
              0.5555555555555556,
              "#d8576b"
             ],
             [
              0.6666666666666666,
              "#ed7953"
             ],
             [
              0.7777777777777778,
              "#fb9f3a"
             ],
             [
              0.8888888888888888,
              "#fdca26"
             ],
             [
              1,
              "#f0f921"
             ]
            ],
            "type": "heatmap"
           }
          ],
          "heatmapgl": [
           {
            "colorbar": {
             "outlinewidth": 0,
             "ticks": ""
            },
            "colorscale": [
             [
              0,
              "#0d0887"
             ],
             [
              0.1111111111111111,
              "#46039f"
             ],
             [
              0.2222222222222222,
              "#7201a8"
             ],
             [
              0.3333333333333333,
              "#9c179e"
             ],
             [
              0.4444444444444444,
              "#bd3786"
             ],
             [
              0.5555555555555556,
              "#d8576b"
             ],
             [
              0.6666666666666666,
              "#ed7953"
             ],
             [
              0.7777777777777778,
              "#fb9f3a"
             ],
             [
              0.8888888888888888,
              "#fdca26"
             ],
             [
              1,
              "#f0f921"
             ]
            ],
            "type": "heatmapgl"
           }
          ],
          "histogram": [
           {
            "marker": {
             "colorbar": {
              "outlinewidth": 0,
              "ticks": ""
             }
            },
            "type": "histogram"
           }
          ],
          "histogram2d": [
           {
            "colorbar": {
             "outlinewidth": 0,
             "ticks": ""
            },
            "colorscale": [
             [
              0,
              "#0d0887"
             ],
             [
              0.1111111111111111,
              "#46039f"
             ],
             [
              0.2222222222222222,
              "#7201a8"
             ],
             [
              0.3333333333333333,
              "#9c179e"
             ],
             [
              0.4444444444444444,
              "#bd3786"
             ],
             [
              0.5555555555555556,
              "#d8576b"
             ],
             [
              0.6666666666666666,
              "#ed7953"
             ],
             [
              0.7777777777777778,
              "#fb9f3a"
             ],
             [
              0.8888888888888888,
              "#fdca26"
             ],
             [
              1,
              "#f0f921"
             ]
            ],
            "type": "histogram2d"
           }
          ],
          "histogram2dcontour": [
           {
            "colorbar": {
             "outlinewidth": 0,
             "ticks": ""
            },
            "colorscale": [
             [
              0,
              "#0d0887"
             ],
             [
              0.1111111111111111,
              "#46039f"
             ],
             [
              0.2222222222222222,
              "#7201a8"
             ],
             [
              0.3333333333333333,
              "#9c179e"
             ],
             [
              0.4444444444444444,
              "#bd3786"
             ],
             [
              0.5555555555555556,
              "#d8576b"
             ],
             [
              0.6666666666666666,
              "#ed7953"
             ],
             [
              0.7777777777777778,
              "#fb9f3a"
             ],
             [
              0.8888888888888888,
              "#fdca26"
             ],
             [
              1,
              "#f0f921"
             ]
            ],
            "type": "histogram2dcontour"
           }
          ],
          "mesh3d": [
           {
            "colorbar": {
             "outlinewidth": 0,
             "ticks": ""
            },
            "type": "mesh3d"
           }
          ],
          "parcoords": [
           {
            "line": {
             "colorbar": {
              "outlinewidth": 0,
              "ticks": ""
             }
            },
            "type": "parcoords"
           }
          ],
          "pie": [
           {
            "automargin": true,
            "type": "pie"
           }
          ],
          "scatter": [
           {
            "marker": {
             "colorbar": {
              "outlinewidth": 0,
              "ticks": ""
             }
            },
            "type": "scatter"
           }
          ],
          "scatter3d": [
           {
            "line": {
             "colorbar": {
              "outlinewidth": 0,
              "ticks": ""
             }
            },
            "marker": {
             "colorbar": {
              "outlinewidth": 0,
              "ticks": ""
             }
            },
            "type": "scatter3d"
           }
          ],
          "scattercarpet": [
           {
            "marker": {
             "colorbar": {
              "outlinewidth": 0,
              "ticks": ""
             }
            },
            "type": "scattercarpet"
           }
          ],
          "scattergeo": [
           {
            "marker": {
             "colorbar": {
              "outlinewidth": 0,
              "ticks": ""
             }
            },
            "type": "scattergeo"
           }
          ],
          "scattergl": [
           {
            "marker": {
             "colorbar": {
              "outlinewidth": 0,
              "ticks": ""
             }
            },
            "type": "scattergl"
           }
          ],
          "scattermapbox": [
           {
            "marker": {
             "colorbar": {
              "outlinewidth": 0,
              "ticks": ""
             }
            },
            "type": "scattermapbox"
           }
          ],
          "scatterpolar": [
           {
            "marker": {
             "colorbar": {
              "outlinewidth": 0,
              "ticks": ""
             }
            },
            "type": "scatterpolar"
           }
          ],
          "scatterpolargl": [
           {
            "marker": {
             "colorbar": {
              "outlinewidth": 0,
              "ticks": ""
             }
            },
            "type": "scatterpolargl"
           }
          ],
          "scatterternary": [
           {
            "marker": {
             "colorbar": {
              "outlinewidth": 0,
              "ticks": ""
             }
            },
            "type": "scatterternary"
           }
          ],
          "surface": [
           {
            "colorbar": {
             "outlinewidth": 0,
             "ticks": ""
            },
            "colorscale": [
             [
              0,
              "#0d0887"
             ],
             [
              0.1111111111111111,
              "#46039f"
             ],
             [
              0.2222222222222222,
              "#7201a8"
             ],
             [
              0.3333333333333333,
              "#9c179e"
             ],
             [
              0.4444444444444444,
              "#bd3786"
             ],
             [
              0.5555555555555556,
              "#d8576b"
             ],
             [
              0.6666666666666666,
              "#ed7953"
             ],
             [
              0.7777777777777778,
              "#fb9f3a"
             ],
             [
              0.8888888888888888,
              "#fdca26"
             ],
             [
              1,
              "#f0f921"
             ]
            ],
            "type": "surface"
           }
          ],
          "table": [
           {
            "cells": {
             "fill": {
              "color": "#EBF0F8"
             },
             "line": {
              "color": "white"
             }
            },
            "header": {
             "fill": {
              "color": "#C8D4E3"
             },
             "line": {
              "color": "white"
             }
            },
            "type": "table"
           }
          ]
         },
         "layout": {
          "annotationdefaults": {
           "arrowcolor": "#2a3f5f",
           "arrowhead": 0,
           "arrowwidth": 1
          },
          "coloraxis": {
           "colorbar": {
            "outlinewidth": 0,
            "ticks": ""
           }
          },
          "colorscale": {
           "diverging": [
            [
             0,
             "#8e0152"
            ],
            [
             0.1,
             "#c51b7d"
            ],
            [
             0.2,
             "#de77ae"
            ],
            [
             0.3,
             "#f1b6da"
            ],
            [
             0.4,
             "#fde0ef"
            ],
            [
             0.5,
             "#f7f7f7"
            ],
            [
             0.6,
             "#e6f5d0"
            ],
            [
             0.7,
             "#b8e186"
            ],
            [
             0.8,
             "#7fbc41"
            ],
            [
             0.9,
             "#4d9221"
            ],
            [
             1,
             "#276419"
            ]
           ],
           "sequential": [
            [
             0,
             "#0d0887"
            ],
            [
             0.1111111111111111,
             "#46039f"
            ],
            [
             0.2222222222222222,
             "#7201a8"
            ],
            [
             0.3333333333333333,
             "#9c179e"
            ],
            [
             0.4444444444444444,
             "#bd3786"
            ],
            [
             0.5555555555555556,
             "#d8576b"
            ],
            [
             0.6666666666666666,
             "#ed7953"
            ],
            [
             0.7777777777777778,
             "#fb9f3a"
            ],
            [
             0.8888888888888888,
             "#fdca26"
            ],
            [
             1,
             "#f0f921"
            ]
           ],
           "sequentialminus": [
            [
             0,
             "#0d0887"
            ],
            [
             0.1111111111111111,
             "#46039f"
            ],
            [
             0.2222222222222222,
             "#7201a8"
            ],
            [
             0.3333333333333333,
             "#9c179e"
            ],
            [
             0.4444444444444444,
             "#bd3786"
            ],
            [
             0.5555555555555556,
             "#d8576b"
            ],
            [
             0.6666666666666666,
             "#ed7953"
            ],
            [
             0.7777777777777778,
             "#fb9f3a"
            ],
            [
             0.8888888888888888,
             "#fdca26"
            ],
            [
             1,
             "#f0f921"
            ]
           ]
          },
          "colorway": [
           "#636efa",
           "#EF553B",
           "#00cc96",
           "#ab63fa",
           "#FFA15A",
           "#19d3f3",
           "#FF6692",
           "#B6E880",
           "#FF97FF",
           "#FECB52"
          ],
          "font": {
           "color": "#2a3f5f"
          },
          "geo": {
           "bgcolor": "white",
           "lakecolor": "white",
           "landcolor": "#E5ECF6",
           "showlakes": true,
           "showland": true,
           "subunitcolor": "white"
          },
          "hoverlabel": {
           "align": "left"
          },
          "hovermode": "closest",
          "mapbox": {
           "style": "light"
          },
          "paper_bgcolor": "white",
          "plot_bgcolor": "#E5ECF6",
          "polar": {
           "angularaxis": {
            "gridcolor": "white",
            "linecolor": "white",
            "ticks": ""
           },
           "bgcolor": "#E5ECF6",
           "radialaxis": {
            "gridcolor": "white",
            "linecolor": "white",
            "ticks": ""
           }
          },
          "scene": {
           "xaxis": {
            "backgroundcolor": "#E5ECF6",
            "gridcolor": "white",
            "gridwidth": 2,
            "linecolor": "white",
            "showbackground": true,
            "ticks": "",
            "zerolinecolor": "white"
           },
           "yaxis": {
            "backgroundcolor": "#E5ECF6",
            "gridcolor": "white",
            "gridwidth": 2,
            "linecolor": "white",
            "showbackground": true,
            "ticks": "",
            "zerolinecolor": "white"
           },
           "zaxis": {
            "backgroundcolor": "#E5ECF6",
            "gridcolor": "white",
            "gridwidth": 2,
            "linecolor": "white",
            "showbackground": true,
            "ticks": "",
            "zerolinecolor": "white"
           }
          },
          "shapedefaults": {
           "line": {
            "color": "#2a3f5f"
           }
          },
          "ternary": {
           "aaxis": {
            "gridcolor": "white",
            "linecolor": "white",
            "ticks": ""
           },
           "baxis": {
            "gridcolor": "white",
            "linecolor": "white",
            "ticks": ""
           },
           "bgcolor": "#E5ECF6",
           "caxis": {
            "gridcolor": "white",
            "linecolor": "white",
            "ticks": ""
           }
          },
          "title": {
           "x": 0.05
          },
          "xaxis": {
           "automargin": true,
           "gridcolor": "white",
           "linecolor": "white",
           "ticks": "",
           "title": {
            "standoff": 15
           },
           "zerolinecolor": "white",
           "zerolinewidth": 2
          },
          "yaxis": {
           "automargin": true,
           "gridcolor": "white",
           "linecolor": "white",
           "ticks": "",
           "title": {
            "standoff": 15
           },
           "zerolinecolor": "white",
           "zerolinewidth": 2
          }
         }
        },
        "title": {
         "text": "EHP"
        },
        "width": 1000
       }
      }
     },
     "metadata": {}
    }
   ],
   "source": [
    "import plotly.graph_objects as go\n",
    "import pandas as pd\n",
    "import numpy as np\n",
    "\n",
    "skills = pd.read_csv('mirana.txt',delimiter=';')\n",
    "skills.loc[:,\"Ratio\"] = round(skills.Dmg/skills.Mana,1)\n",
    "levels = skills.Level.unique()\n",
    "skills.loc[:,\"Ratio-Cd\"] = skills[\"Ratio\"]/skills[\"Cooldown\"]\n",
    "\n",
    "import json\n",
    "import plotly.graph_objects as go\n",
    "\n",
    "def plot_daños(df,heroe):\n",
    "    layout = go.Layout(width=500,height=300,margin_b=5,title_text=heroe)\n",
    "    mayor_ratio = df.sort_values([\"RatioPegoPegan\"],axis=0,ascending=False)\n",
    "    x = mayor_ratio.index\n",
    "    fig = go.Figure([go.Bar(x=x, y=mayor_ratio[\"%HPpego\"],name=\"Pego\"),\n",
    "    go.Bar(x=x, y=mayor_ratio[\"%HPmePegan\"],name=\"te Pegan\"),\n",
    "    go.Bar(x=x, y=mayor_ratio[\"RatioPegoPegan\"],name=\"%\")])\n",
    "    fig.update_layout(layout)\n",
    "    fig.show()\n",
    "\n",
    "def plot_avanceLevels(dict_dfHeroes,valor,heroe_actual):\n",
    "    layout = go.Layout(height=300,width=1000,margin_b=5,title_text=valor)\n",
    "    levels = [x for x in range(1,21)]\n",
    "    traces = [go.Scatter(x=levels,y=heroeDf.loc[valor,levels],name=heroeName) for heroeName,heroeDf in dict_dfHeroes.items()] #\n",
    "    fig = go.Figure(data=traces)\n",
    "    fig.update_layout(layout)\n",
    "  \n",
    "    fig.show()\n",
    "\n",
    "\n",
    "df = pd.read_json('npc_heroes.json',dtype='float')\n",
    "pd.set_option('display.max_rows', df.shape[0]-80)\n",
    "df.drop([\"HeroType\",\"SoloDesire\",\"RequiresBabysit\",\"ProvidesBabysit\",\"SurvivalRating\",\"RequiresFarm\",\"ProvidesSetup\",\"RequiresSetup\",\"BaseAttackSpeed\",\"AttackAcquisitionRange\",\"AttackRange\",\"AttackCapabilities\",\"StatusManaRegen\",\"HeroID\",\"Role\",\"Rolelevels\",\"Complexity\",\"StatusHealthRegen\",\"MovementSpeed\"],axis=1,inplace=True)\n",
    "\n",
    "#DF QUE SE USARA PARA CALCULAR EN BASE A UN HEROE\n",
    "df_target_hero = df.copy()\n",
    "df_target_hero.set_index(\"Heroe\",inplace=True)\n",
    "df_target_hero.loc[:,\"BASE HP\"] =    200 # HPBase\n",
    "df_target_hero.loc[:,\"BaseAttack\"] = (df_target_hero[\"AttackDamageMin\"]+df_target_hero[\"AttackDamageMax\"])/2 # DMG PROMEDIO\n",
    "print(df_target_hero)\n",
    "\n",
    "\n",
    "def target_lvlUno(heroe,enemigos):\n",
    "    \"\"\"Esta funcion permite saber cuanto daño fisico pego y me pegan para un -heroe-\"\"\"\n",
    "    daños = pd.DataFrame()\n",
    "    daños[\"%HPpego\"] = round(100*((df_target_hero.loc[heroe,\"BaseAttack\"]-df_target_hero.loc[enemigos,\"ArmorPhysical\"])/(df_target_hero.loc[enemigos,\"BASE HP\"])),1)  \n",
    "\n",
    "    daños[\"%HPmePegan\"] = round(100*((df_target_hero.loc[enemigos,\"BaseAttack\"]-df_target_hero.loc[heroe,\"ArmorPhysical\"])/df_target_hero.loc[heroe,\"BASE HP\"]),1)\n",
    "\n",
    "    daños[\"RatioPegoPegan\"] = round((daños[\"%HPpego\"]/daños[\"%HPmePegan\"]),1)\n",
    "    plot_daños(daños,heroe)\n",
    "\n",
    "\n",
    "#DF HEROES\n",
    "\n",
    "def crearDfsEnemigos(heroe_actual,enemigos):\n",
    "    enemigos.append(heroe_actual)\n",
    "    \n",
    "    dictDfHeroes = {}\n",
    "\n",
    "    for hero in enemigos:\n",
    "        dictDfHeroes[hero] = pd.DataFrame(index=[\"BASE ARMOR\",\"MAIN ARMOR\",\"DAMAGE MULT\",\"HP\",\"DMG\",\"EHP\"],columns=[x for x in range(1,21)])\n",
    "        # ARMOR\n",
    "        dictDfHeroes[hero].loc[\"BASE ARMOR\",:] = df_target_hero.loc[hero,\"ArmorPhysical\"]\n",
    "        dictDfHeroes[hero].loc[\"MAIN ARMOR\",1] = dictDfHeroes[hero].loc[\"BASE ARMOR\",1] + (df_target_hero.loc[hero,\"Agility\"]*0.16)\n",
    "        dictDfHeroes[hero].loc[\"DAMAGE MULT\",1] = 1 - ((0.052 * dictDfHeroes[hero].loc[\"MAIN ARMOR\",1]) / (0.9 + 0.048 * abs(dictDfHeroes[hero].loc[\"MAIN ARMOR\",1])))\n",
    "        #HP\n",
    "\n",
    "        dictDfHeroes[hero].loc[\"HP\",1] = df_target_hero.loc[hero,\"BASE HP\"] +df_target_hero.loc[hero,\"Strength\"]*20 \n",
    "        #ATK\n",
    "        primary = df_target_hero.loc[hero,\"Primary\"].capitalize()\n",
    "\n",
    "        for col in dictDfHeroes[hero].columns:\n",
    "            if col == 1:\n",
    "                pass\n",
    "            else:\n",
    "            # sven.loc[\"MAIN ARMOR\",col] = sven.loc[\"BASE ARMOR\",1] + (df_target_hero.loc[\"sven\",\"Agility\"]*0.16)\n",
    "                dictDfHeroes[hero].loc[\"MAIN ARMOR\",col] = (df_target_hero.loc[hero,\"AgilityGain\"]*0.16) + dictDfHeroes[hero].loc[\"MAIN ARMOR\",col-1]\n",
    "                dictDfHeroes[hero].loc[\"DAMAGE MULT\",col] = 1 - ((0.052 * dictDfHeroes[hero].loc[\"MAIN ARMOR\",col]) / (0.9 + 0.048 * abs(dictDfHeroes[hero].loc[\"MAIN ARMOR\",col])))\n",
    "                dictDfHeroes[hero].loc[\"HP\",col] =  df_target_hero.loc[hero,\"StrengthGain\"]*20 + dictDfHeroes[hero].loc[\"HP\",col-1]\n",
    "            dictDfHeroes[hero].loc[\"DMG\",col] = (df_target_hero.loc[hero,\"BaseAttack\"] + df_target_hero.loc[hero,f\"{primary}Gain\"]*col) #FALTARIA AGREGARLE DAMAGE MULT DEL ENEMIGO AL Q LE PEGA \n",
    "\n",
    "        dictDfHeroes[hero].loc[\"EHP\"] = dictDfHeroes[hero].loc[\"HP\"] /  dictDfHeroes[hero].loc[\"DAMAGE MULT\"]\n",
    "        # dictDfHeroes[hero].loc[\"RatioEHP/DMG\"] = dictDfHeroes[hero].loc[\"DMG\"]/dictDfHeroes[hero].loc[\"EHP\"]\n",
    "\n",
    "    # print(dictDfHeroes)\n",
    "    plot_avanceLevels(dictDfHeroes,\"DMG\",heroe_actual)\n",
    "    plot_avanceLevels(dictDfHeroes,\"EHP\",heroe_actual)\n",
    "\n",
    "enemigos = [\"bane\",\"windrunner\",\"sniper\",\"pudge\",\"phantom_lancer\"]\n",
    "hero_actual = \"tiny\"\n",
    "# target_lvlUno(hero_actual,enemigos) \n",
    "crearDfsEnemigos(hero_actual,enemigos)\n",
    "\n"
   ]
  },
  {
   "cell_type": "code",
   "execution_count": 62,
   "metadata": {},
   "outputs": [
    {
     "output_type": "stream",
     "name": "stdout",
     "text": "abaddon\nabyssal_underlord\nalchemist\nancient_apparition\nantimage\narc_warden\naxe\nbane\nbatrider\nbeastmaster\nbloodseeker\nbounty_hunter\nbrewmaster\nbristleback\nbroodmother\ncentaur\nchaos_knight\nchen\nclinkz\ncrystal_maiden\ndark_seer\ndark_willow\ndazzle\ndeath_prophet\ndisruptor\ndoom_bringer\ndragon_knight\ndrow_ranger\nearth_spirit\nearthshaker\nelder_titan\nember_spirit\nenchantress\nenigma\nfaceless_void\nfurion\ngrimstroke\ngyrocopter\nhuskar\ninvoker\njakiro\njuggernaut\nkeeper_of_the_light\nkunkka\nlegion_commander\nleshrac\nlich\nlife_stealer\nlina\nlion\nlone_druid\nluna\nlycan\nmagnataur\nmars\nmedusa\nmeepo\nmirana\nmonkey_king\nmorphling\nnaga_siren\nnecrolyte\nnevermore\nnight_stalker\nnyx_assassin\nobsidian_destroyer\nogre_magi\nomniknight\noracle\npangolier\nphantom_assassin\nphantom_lancer\nphoenix\npuck\npudge\npugna\nqueenofpain\nrattletrap\nrazor\nriki\nrubick\nsand_king\nshadow_demon\nshadow_shaman\nshredder\nsilencer\nskeleton_king\nskywrath_mage\nslardar\nslark\nsnapfire\nsniper\nspectre\nspirit_breaker\nstorm_spirit\nsven\ntechies\ntemplar_assassin\nterrorblade\ntidehunter\ntinker\ntiny\ntreant\ntroll_warlord\ntusk\nundying\nursa\nvengefulspirit\nvenomancer\nviper\nvisage\nvoid_spirit\nwarlock\nweaver\nwindrunner\nwinter_wyvern\nwisp\nwitch_doctor\nzeus\n"
    }
   ],
   "source": [
    "for hero in df_target_hero.index.sort_values():\n",
    "    print(hero)"
   ]
  },
  {
   "cell_type": "code",
   "execution_count": 49,
   "metadata": {},
   "outputs": [],
   "source": [
    "\n"
   ]
  }
 ]
}